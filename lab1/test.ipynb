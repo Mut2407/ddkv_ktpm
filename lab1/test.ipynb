{
  "nbformat": 4,
  "nbformat_minor": 0,
  "metadata": {
    "colab": {
      "provenance": []
    },
    "kernelspec": {
      "name": "python3",
      "display_name": "Python 3"
    },
    "language_info": {
      "name": "python"
    }
  },
  "cells": [
    {
      "cell_type": "code",
      "source": [
        "%%writefile input-a.inp\n",
        "2"
      ],
      "metadata": {
        "colab": {
          "base_uri": "https://localhost:8080/"
        },
        "id": "OxAPrzjDeBd9",
        "outputId": "ed52ba0f-fbfb-4741-a24f-ebe83c1176ed"
      },
      "execution_count": 1,
      "outputs": [
        {
          "output_type": "stream",
          "name": "stdout",
          "text": [
            "Writing input-a.inp\n"
          ]
        }
      ]
    },
    {
      "cell_type": "code",
      "source": [
        "%%writefile input-b.inp\n",
        "11"
      ],
      "metadata": {
        "colab": {
          "base_uri": "https://localhost:8080/"
        },
        "id": "RmcM7DUYiz1o",
        "outputId": "04ff870d-9796-48a2-aada-1f01ecffb3aa"
      },
      "execution_count": 2,
      "outputs": [
        {
          "output_type": "stream",
          "name": "stdout",
          "text": [
            "Writing input-b.inp\n"
          ]
        }
      ]
    },
    {
      "cell_type": "code",
      "source": [
        "%%writefile input-c.inp\n",
        "5"
      ],
      "metadata": {
        "colab": {
          "base_uri": "https://localhost:8080/"
        },
        "id": "FYypobouiz_P",
        "outputId": "73f03dd8-2ab8-4e53-d9c2-4ba22a44f648"
      },
      "execution_count": 3,
      "outputs": [
        {
          "output_type": "stream",
          "name": "stdout",
          "text": [
            "Writing input-c.inp\n"
          ]
        }
      ]
    },
    {
      "cell_type": "code",
      "source": [
        "%%writefile input-d.inp\n",
        "12"
      ],
      "metadata": {
        "colab": {
          "base_uri": "https://localhost:8080/"
        },
        "id": "Vv0Grjx7i0Tn",
        "outputId": "e3d7a175-da53-46b1-e465-21052ab1ddf3"
      },
      "execution_count": 4,
      "outputs": [
        {
          "output_type": "stream",
          "name": "stdout",
          "text": [
            "Writing input-d.inp\n"
          ]
        }
      ]
    },
    {
      "cell_type": "code",
      "source": [
        "%%writefile input-e.inp\n",
        "2 3 5"
      ],
      "metadata": {
        "colab": {
          "base_uri": "https://localhost:8080/"
        },
        "id": "x0LcbPjyi0bf",
        "outputId": "5955e01a-b022-401f-bc7d-2a9af23f51dd"
      },
      "execution_count": 5,
      "outputs": [
        {
          "output_type": "stream",
          "name": "stdout",
          "text": [
            "Writing input-e.inp\n"
          ]
        }
      ]
    },
    {
      "cell_type": "code",
      "source": [
        "%%writefile input-1.inp\n",
        "0 2 -8"
      ],
      "metadata": {
        "colab": {
          "base_uri": "https://localhost:8080/"
        },
        "id": "pwRAJE4Wi0kP",
        "outputId": "d82b9b98-aed7-406d-be8a-27aa85a2203d"
      },
      "execution_count": 6,
      "outputs": [
        {
          "output_type": "stream",
          "name": "stdout",
          "text": [
            "Writing input-1.inp\n"
          ]
        }
      ]
    },
    {
      "cell_type": "code",
      "source": [
        "!g++ test-case-a.cpp -o test-case-a\n",
        "!g++ test-case-b.cpp -o test-case-b\n",
        "!g++ test-case-c.cpp -o test-case-c\n",
        "!g++ test-case-d.cpp -o test-case-d\n",
        "!g++ test-case-e.cpp -o test-case-e\n",
        "!g++ pratice-1.cpp -o pratice-1\n",
        "\n",
        "!echo \"TEST-CASE-A\"\n",
        "!./test-case-a < input-a.inp > out-a.txt\n",
        "!echo \"Expected: -2\"\n",
        "!cat out-a.txt\n",
        "\n",
        "!echo \"TEST-CASE-B\"\n",
        "!./test-case-b < input-b.inp > out-b.txt\n",
        "!echo \"Expected: 22\"\n",
        "!cat out-b.txt\n",
        "\n",
        "!echo \"TEST-CASE-C\"\n",
        "!./test-case-c < input-c.inp > out-c.txt\n",
        "!echo \"Expected: 10\"\n",
        "!cat out-c.txt\n",
        "\n",
        "!echo \"TEST-CASE-D\"\n",
        "!./test-case-d < input-d.inp > out-d.txt\n",
        "!echo \"Expected: 24\"\n",
        "!cat out-d.txt\n",
        "\n",
        "!echo \"TEST-CASE-E\"\n",
        "!./test-case-e < input-e.inp > out-e.txt\n",
        "!echo \"Expected: 5\"\n",
        "!cat out-e.txt\n",
        "\n",
        "!echo \"PRACTICE-1\"\n",
        "!./pratice-1 < input-e.inp > out-1.txt\n",
        "!echo \"Expected: 2\"\n",
        "!cat out-1.txt\n"
      ],
      "metadata": {
        "colab": {
          "base_uri": "https://localhost:8080/"
        },
        "id": "w15x3yqmi6Z3",
        "outputId": "ca53e1ec-ff51-4128-b290-d4c570b6c4b8"
      },
      "execution_count": 7,
      "outputs": [
        {
          "output_type": "stream",
          "name": "stdout",
          "text": [
            "TEST-CASE-A\n",
            "Expected: -2\n",
            "nhap x: - ket qua: -2\n",
            "TEST-CASE-B\n",
            "Expected: 22\n",
            "nhap x: - ket qua: 22\n",
            "TEST-CASE-C\n",
            "Expected: 10\n",
            "nhap x: - ket qua: 10\n",
            "TEST-CASE-D\n",
            "Expected: 24\n",
            "nhap x: - ket qua: 24\n",
            "TEST-CASE-E\n",
            "Expected: 5\n",
            "nhap num1: nhap num2: nhap num3: - ket qua: 5\n",
            "PRACTICE-1\n",
            "Expected: 2\n",
            "nhap a: nhap b: nhap c: No solution.\n"
          ]
        }
      ]
    }
  ]
}